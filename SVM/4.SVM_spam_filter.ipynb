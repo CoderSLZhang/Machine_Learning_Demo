{
 "cells": [
  {
   "cell_type": "code",
   "execution_count": 27,
   "metadata": {
    "collapsed": true
   },
   "outputs": [],
   "source": [
    "from matplotlib import pylab as plt\n",
    "from sklearn.svm import SVC\n",
    "from sklearn.preprocessing import StandardScaler\n",
    "from sklearn.grid_search import GridSearchCV\n",
    "from sklearn import metrics\n",
    "from scipy import io as sio"
   ]
  },
  {
   "cell_type": "code",
   "execution_count": 2,
   "metadata": {},
   "outputs": [
    {
     "data": {
      "text/plain": [
       "dict_keys(['__header__', '__version__', '__globals__', 'X', 'y'])"
      ]
     },
     "execution_count": 2,
     "metadata": {},
     "output_type": "execute_result"
    }
   ],
   "source": [
    "train_mat = sio.loadmat('./data/spamTrain.mat')\n",
    "train_mat.keys()"
   ]
  },
  {
   "cell_type": "code",
   "execution_count": 3,
   "metadata": {},
   "outputs": [
    {
     "data": {
      "text/plain": [
       "dict_keys(['__header__', '__version__', '__globals__', 'Xtest', 'ytest'])"
      ]
     },
     "execution_count": 3,
     "metadata": {},
     "output_type": "execute_result"
    }
   ],
   "source": [
    "test_mat = sio.loadmat('./data/spamTest.mat')\n",
    "test_mat.keys()"
   ]
  },
  {
   "cell_type": "code",
   "execution_count": 4,
   "metadata": {},
   "outputs": [
    {
     "name": "stdout",
     "output_type": "stream",
     "text": [
      "train_X:  (4000, 1899)\n",
      "train_Y:  (4000, 1)\n",
      "test_X:  (1000, 1899)\n",
      "test_Y:  (1000, 1)\n"
     ]
    }
   ],
   "source": [
    "train_X = train_mat.get('X')\n",
    "train_Y = train_mat.get('y')\n",
    "test_X = test_mat.get('Xtest')\n",
    "test_Y = test_mat.get('ytest')\n",
    "\n",
    "print('train_X: ', train_X.shape)\n",
    "print('train_Y: ', train_Y.shape)\n",
    "print('test_X: ', test_X.shape)\n",
    "print('test_Y: ', test_Y.shape)"
   ]
  },
  {
   "cell_type": "code",
   "execution_count": 12,
   "metadata": {},
   "outputs": [
    {
     "name": "stderr",
     "output_type": "stream",
     "text": [
      "/Users/zhangshulin_work/anaconda/lib/python3.6/site-packages/sklearn/utils/validation.py:444: DataConversionWarning: Data with input dtype uint8 was converted to float64 by StandardScaler.\n",
      "  warnings.warn(msg, DataConversionWarning)\n"
     ]
    }
   ],
   "source": [
    "X_scaler = StandardScaler()\n",
    "\n",
    "train_X_std = X_scaler.fit_transform(train_X)\n",
    "test_X_std = X_scaler.transform(test_X)"
   ]
  },
  {
   "cell_type": "code",
   "execution_count": 34,
   "metadata": {
    "collapsed": true
   },
   "outputs": [],
   "source": [
    "search_params = {\n",
    "    'C': [100, 1000, 10000],\n",
    "    'gamma': [0.00001, 0.0001]\n",
    "}"
   ]
  },
  {
   "cell_type": "code",
   "execution_count": 35,
   "metadata": {},
   "outputs": [
    {
     "name": "stdout",
     "output_type": "stream",
     "text": [
      "Fitting 2 folds for each of 6 candidates, totalling 12 fits\n",
      "[CV] C=100, gamma=1e-05 ..............................................\n",
      "[CV] ..................................... C=100, gamma=1e-05 -   4.0s\n",
      "[CV] C=100, gamma=1e-05 ..............................................\n"
     ]
    },
    {
     "name": "stderr",
     "output_type": "stream",
     "text": [
      "[Parallel(n_jobs=1)]: Done   1 out of   1 | elapsed:    4.0s remaining:    0.0s\n"
     ]
    },
    {
     "name": "stdout",
     "output_type": "stream",
     "text": [
      "[CV] ..................................... C=100, gamma=1e-05 -   4.0s\n",
      "[CV] C=100, gamma=0.0001 .............................................\n",
      "[CV] .................................... C=100, gamma=0.0001 -   3.8s\n",
      "[CV] C=100, gamma=0.0001 .............................................\n",
      "[CV] .................................... C=100, gamma=0.0001 -   4.0s\n",
      "[CV] C=1000, gamma=1e-05 .............................................\n",
      "[CV] .................................... C=1000, gamma=1e-05 -   3.3s\n",
      "[CV] C=1000, gamma=1e-05 .............................................\n",
      "[CV] .................................... C=1000, gamma=1e-05 -   3.3s\n",
      "[CV] C=1000, gamma=0.0001 ............................................\n",
      "[CV] ................................... C=1000, gamma=0.0001 -   3.4s\n",
      "[CV] C=1000, gamma=0.0001 ............................................\n",
      "[CV] ................................... C=1000, gamma=0.0001 -   3.2s\n",
      "[CV] C=10000, gamma=1e-05 ............................................\n",
      "[CV] ................................... C=10000, gamma=1e-05 -   3.1s\n",
      "[CV] C=10000, gamma=1e-05 ............................................\n",
      "[CV] ................................... C=10000, gamma=1e-05 -   3.0s\n",
      "[CV] C=10000, gamma=0.0001 ...........................................\n",
      "[CV] .................................. C=10000, gamma=0.0001 -   3.5s\n",
      "[CV] C=10000, gamma=0.0001 ...........................................\n",
      "[CV] .................................. C=10000, gamma=0.0001 -   2.7s\n"
     ]
    },
    {
     "name": "stderr",
     "output_type": "stream",
     "text": [
      "[Parallel(n_jobs=1)]: Done  12 out of  12 | elapsed:   41.4s finished\n"
     ]
    },
    {
     "data": {
      "text/plain": [
       "GridSearchCV(cv=2, error_score='raise',\n",
       "       estimator=SVC(C=1.0, cache_size=200, class_weight=None, coef0=0.0,\n",
       "  decision_function_shape='ovr', degree=3, gamma='auto', kernel='rbf',\n",
       "  max_iter=-1, probability=False, random_state=None, shrinking=True,\n",
       "  tol=0.001, verbose=False),\n",
       "       fit_params={}, iid=True, n_jobs=1,\n",
       "       param_grid={'C': [100, 1000, 10000], 'gamma': [1e-05, 0.0001]},\n",
       "       pre_dispatch='2*n_jobs', refit=True, scoring=None, verbose=2)"
      ]
     },
     "execution_count": 35,
     "metadata": {},
     "output_type": "execute_result"
    }
   ],
   "source": [
    "svm = SVC()\n",
    "grid_search = GridSearchCV(svm, search_params, n_jobs=1, cv=2, verbose=2)\n",
    "grid_search.fit(train_X_std, train_Y.reshape((-1,)))"
   ]
  },
  {
   "cell_type": "code",
   "execution_count": 36,
   "metadata": {},
   "outputs": [
    {
     "data": {
      "text/plain": [
       "0.9765"
      ]
     },
     "execution_count": 36,
     "metadata": {},
     "output_type": "execute_result"
    }
   ],
   "source": [
    "grid_search.best_score_"
   ]
  },
  {
   "cell_type": "code",
   "execution_count": 37,
   "metadata": {},
   "outputs": [
    {
     "data": {
      "text/plain": [
       "{'C': 100, 'gamma': 0.0001}"
      ]
     },
     "execution_count": 37,
     "metadata": {},
     "output_type": "execute_result"
    }
   ],
   "source": [
    "grid_search.best_params_"
   ]
  },
  {
   "cell_type": "code",
   "execution_count": 38,
   "metadata": {},
   "outputs": [
    {
     "name": "stdout",
     "output_type": "stream",
     "text": [
      "             precision    recall  f1-score   support\n",
      "\n",
      "          0       0.99      0.99      0.99       692\n",
      "          1       0.97      0.98      0.97       308\n",
      "\n",
      "avg / total       0.98      0.98      0.98      1000\n",
      "\n"
     ]
    }
   ],
   "source": [
    "predicts = grid_search.predict(test_X_std)\n",
    "print(metrics.classification_report(test_Y, predicts))"
   ]
  },
  {
   "cell_type": "code",
   "execution_count": null,
   "metadata": {
    "collapsed": true
   },
   "outputs": [],
   "source": []
  }
 ],
 "metadata": {
  "kernelspec": {
   "display_name": "Python 3",
   "language": "python",
   "name": "python3"
  },
  "language_info": {
   "codemirror_mode": {
    "name": "ipython",
    "version": 3
   },
   "file_extension": ".py",
   "mimetype": "text/x-python",
   "name": "python",
   "nbconvert_exporter": "python",
   "pygments_lexer": "ipython3",
   "version": "3.6.4"
  }
 },
 "nbformat": 4,
 "nbformat_minor": 2
}
