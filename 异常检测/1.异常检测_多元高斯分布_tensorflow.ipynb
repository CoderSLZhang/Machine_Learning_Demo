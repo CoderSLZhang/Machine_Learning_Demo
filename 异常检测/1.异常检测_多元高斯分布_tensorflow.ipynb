{
 "cells": [
  {
   "cell_type": "code",
   "execution_count": 1,
   "metadata": {},
   "outputs": [
    {
     "name": "stdout",
     "output_type": "stream",
     "text": [
      "WARNING:tensorflow:From /Users/zhangshulin_work/anaconda/lib/python3.6/site-packages/tensorflow/contrib/learn/python/learn/datasets/base.py:198: retry (from tensorflow.contrib.learn.python.learn.datasets.base) is deprecated and will be removed in a future version.\n",
      "Instructions for updating:\n",
      "Use the retry module or similar alternatives.\n"
     ]
    }
   ],
   "source": [
    "import tensorflow as tf\n",
    "from tensorflow.contrib import eager as tfe\n",
    "import numpy as np\n",
    "from matplotlib import pylab as plt\n",
    "from scipy import io as sio\n",
    "from sklearn import metrics\n",
    "\n",
    "%matplotlib inline\n",
    "\n",
    "tf.enable_eager_execution()"
   ]
  },
  {
   "cell_type": "code",
   "execution_count": 2,
   "metadata": {},
   "outputs": [
    {
     "data": {
      "text/plain": [
       "dict_keys(['__header__', '__version__', '__globals__', 'X', 'Xval', 'yval'])"
      ]
     },
     "execution_count": 2,
     "metadata": {},
     "output_type": "execute_result"
    }
   ],
   "source": [
    "mat = sio.loadmat('./data/ex8data1.mat')\n",
    "mat.keys()"
   ]
  },
  {
   "cell_type": "code",
   "execution_count": 50,
   "metadata": {},
   "outputs": [
    {
     "data": {
      "text/plain": [
       "((307, 2), (307, 2), (307, 1), 9)"
      ]
     },
     "execution_count": 50,
     "metadata": {},
     "output_type": "execute_result"
    }
   ],
   "source": [
    "X_train = mat.get('X')\n",
    "X_val = mat.get('Xval')\n",
    "Y_val = mat.get('yval')\n",
    "\n",
    "X_train.shape, X_val.shape, Y_val.shape, Y_val.sum()"
   ]
  },
  {
   "cell_type": "code",
   "execution_count": 120,
   "metadata": {},
   "outputs": [
    {
     "data": {
      "text/plain": [
       "<matplotlib.collections.PathCollection at 0x12ca82f98>"
      ]
     },
     "execution_count": 120,
     "metadata": {},
     "output_type": "execute_result"
    },
    {
     "data": {
      "image/png": "[encoded data removed]",
      "text/plain": [
       "<matplotlib.figure.Figure at 0x12a19b4a8>"
      ]
     },
     "metadata": {},
     "output_type": "display_data"
    }
   ],
   "source": [
    "plt.figure(figsize=(16, 8))\n",
    "plt.subplot(1, 2, 1)\n",
    "plt.scatter(X_val[:, 0], X_val[:, 1], c=Y_val[:, 0])\n",
    "plt.subplot(1, 2, 2)\n",
    "plt.scatter(X_val[Y_val[:, 0] == 1, 0], X_val[Y_val[:, 0] == 1, 1])"
   ]
  },
  {
   "cell_type": "code",
   "execution_count": 5,
   "metadata": {},
   "outputs": [
    {
     "data": {
      "image/png": "[encoded data removed]",
      "text/plain": [
       "<matplotlib.figure.Figure at 0x1263119b0>"
      ]
     },
     "metadata": {},
     "output_type": "display_data"
    }
   ],
   "source": [
    "plt.figure(figsize=(17, 7))\n",
    "plt.subplot(1, 2, 1)\n",
    "plt.hist(X_train[:, 1], 100)\n",
    "plt.subplot(1, 2, 2)\n",
    "_ = plt.hist(X_train[:, 0], 100)"
   ]
  },
  {
   "cell_type": "code",
   "execution_count": 6,
   "metadata": {},
   "outputs": [
    {
     "data": {
      "text/plain": [
       "[2]"
      ]
     },
     "execution_count": 6,
     "metadata": {},
     "output_type": "execute_result"
    }
   ],
   "source": [
    "means = tf.reduce_mean(X_train, axis=0)\n",
    "means.shape.as_list()"
   ]
  },
  {
   "cell_type": "code",
   "execution_count": 7,
   "metadata": {},
   "outputs": [
    {
     "data": {
      "text/plain": [
       "<tf.Tensor: id=21, shape=(2, 2), dtype=float64, numpy=\n",
       "array([[ 1.83263141, -0.22712233],\n",
       "       [-0.22712233,  1.70974533]])>"
      ]
     },
     "execution_count": 7,
     "metadata": {},
     "output_type": "execute_result"
    }
   ],
   "source": [
    "covariance = tf.matmul(tf.transpose(X_train - means), X_train - means) / tf.cast(tf.shape(X_train)[0], tf.float64)\n",
    "covariance"
   ]
  },
  {
   "cell_type": "code",
   "execution_count": 10,
   "metadata": {},
   "outputs": [],
   "source": [
    "def cal_density(x, means, covariance):\n",
    "    n = tf.shape(x)[0]\n",
    "    x = tf.reshape(x, (n, 1))\n",
    "    means = tf.reshape(means, (n, 1))\n",
    "    part1 = 1 / (tf.pow(2 * np.pi, n/2) * tf.pow(tf.linalg.det(covariance), 1/2))\n",
    "    part2 = tf.exp((-1/2) * tf.transpose(x - means) @ tf.linalg.inv(covariance) @ (x - means))\n",
    "    \n",
    "    return part1 * part2"
   ]
  },
  {
   "cell_type": "code",
   "execution_count": 11,
   "metadata": {},
   "outputs": [
    {
     "data": {
      "text/plain": [
       "<tf.Tensor: id=59, shape=(1, 1), dtype=float64, numpy=array([[ 0.04183639]])>"
      ]
     },
     "execution_count": 11,
     "metadata": {},
     "output_type": "execute_result"
    }
   ],
   "source": [
    "cal_density(X_val[0], means, covariance)"
   ]
  },
  {
   "cell_type": "markdown",
   "metadata": {},
   "source": [
    "### 矢量版"
   ]
  },
  {
   "cell_type": "code",
   "execution_count": 102,
   "metadata": {
    "collapsed": true
   },
   "outputs": [],
   "source": [
    "def cal_density_vec(X, means, covariance):\n",
    "    n = tf.shape(X)[-1]\n",
    "    X = tf.transpose(X)\n",
    "    means = tf.reshape(means, (n, 1))\n",
    "    part1 = 1 / (tf.pow(2 * np.pi, n/2) * tf.pow(tf.linalg.det(covariance), 1/2))\n",
    "    part2 = tf.exp((-1/2) * tf.reduce_sum((tf.transpose(X - means) @ tf.linalg.inv(covariance)) * tf.transpose(X - means), axis=1))\n",
    "    \n",
    "    return part1 * part2"
   ]
  },
  {
   "cell_type": "code",
   "execution_count": 103,
   "metadata": {},
   "outputs": [
    {
     "data": {
      "text/plain": [
       "<tf.Tensor: id=24876, shape=(3,), dtype=float64, numpy=array([ 0.04183639,  0.08342275,  0.03732495])>"
      ]
     },
     "execution_count": 103,
     "metadata": {},
     "output_type": "execute_result"
    }
   ],
   "source": [
    "cal_density_vec(X_val[:3], means, covariance)"
   ]
  },
  {
   "cell_type": "code",
   "execution_count": 12,
   "metadata": {
    "collapsed": true
   },
   "outputs": [],
   "source": [
    "densities = [cal_density(x, means, covariance) for x in X_val]"
   ]
  },
  {
   "cell_type": "code",
   "execution_count": 24,
   "metadata": {},
   "outputs": [],
   "source": [
    "def cal_metrics(densities, labels, epsilon):\n",
    "    predicts = densities < epsilon\n",
    "    precision = metrics.precision_score(labels, predicts)\n",
    "    recall = metrics.recall_score(labels, predicts)\n",
    "    f1 = metrics.f1_score(labels, predicts)\n",
    "    \n",
    "    return precision, recall, f1"
   ]
  },
  {
   "cell_type": "code",
   "execution_count": 25,
   "metadata": {},
   "outputs": [
    {
     "data": {
      "text/plain": [
       "(1.0, 0.77777777777777779, 0.87500000000000011)"
      ]
     },
     "execution_count": 25,
     "metadata": {},
     "output_type": "execute_result"
    }
   ],
   "source": [
    "cal_metrics(np.array(densities).reshape(-1, 1), Y_val, 0.0001)"
   ]
  },
  {
   "cell_type": "code",
   "execution_count": 126,
   "metadata": {},
   "outputs": [],
   "source": [
    "def search_epsilon(cal_metrics, densities, labels, log_range=(-3, -5)):\n",
    "    max_f1 = 0\n",
    "    max_precision = 0\n",
    "    max_recall = 0\n",
    "    result_epsilon = 1\n",
    "    for e in np.logspace(log_range[0], log_range[1], 100):\n",
    "        precision, recall, f1 = cal_metrics(densities, labels, e)\n",
    "#         print(e, f1)\n",
    "        if f1 > max_f1:\n",
    "            max_f1 = f1\n",
    "            max_precision = precision\n",
    "            max_recall = recall\n",
    "            result_epsilon = e\n",
    "            \n",
    "    return result_epsilon, max_f1, max_precision, max_recall"
   ]
  },
  {
   "cell_type": "code",
   "execution_count": 127,
   "metadata": {},
   "outputs": [
    {
     "name": "stdout",
     "output_type": "stream",
     "text": [
      "best\n"
     ]
    },
    {
     "data": {
      "text/plain": [
       "(0.00028480358684358022, 0.87500000000000011, 1.0, 0.77777777777777779)"
      ]
     },
     "execution_count": 127,
     "metadata": {},
     "output_type": "execute_result"
    }
   ],
   "source": [
    "epsilon, f1, precision, recall = search_epsilon(cal_metrics, np.array(densities).reshape(-1, 1), Y_val, log_range=(-3, -5))\n",
    "print('best')\n",
    "epsilon, f1, precision, recall"
   ]
  },
  {
   "cell_type": "code",
   "execution_count": 128,
   "metadata": {},
   "outputs": [
    {
     "data": {
      "text/plain": [
       "<matplotlib.collections.PathCollection at 0x12bd2d550>"
      ]
     },
     "execution_count": 128,
     "metadata": {},
     "output_type": "execute_result"
    },
    {
     "data": {
      "image/png": "[encoded data removed]",
      "text/plain": [
       "<matplotlib.figure.Figure at 0x12b7da748>"
      ]
     },
     "metadata": {},
     "output_type": "display_data"
    }
   ],
   "source": [
    "best_predicts = densities < epsilon\n",
    "plt.figure(figsize=(8, 8))\n",
    "plt.scatter(X_val[:, 0], X_val[:, 1], c=best_predicts)"
   ]
  },
  {
   "cell_type": "code",
   "execution_count": null,
   "metadata": {
    "collapsed": true
   },
   "outputs": [],
   "source": []
  }
 ],
 "metadata": {
  "kernelspec": {
   "display_name": "Python 3",
   "language": "python",
   "name": "python3"
  },
  "language_info": {
   "codemirror_mode": {
    "name": "ipython",
    "version": 3
   },
   "file_extension": ".py",
   "mimetype": "text/x-python",
   "name": "python",
   "nbconvert_exporter": "python",
   "pygments_lexer": "ipython3",
   "version": "3.6.4"
  }
 },
 "nbformat": 4,
 "nbformat_minor": 2
}
