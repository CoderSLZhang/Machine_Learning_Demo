{
 "cells": [
  {
   "cell_type": "code",
   "execution_count": 1,
   "metadata": {},
   "outputs": [
    {
     "name": "stdout",
     "output_type": "stream",
     "text": [
      "WARNING:tensorflow:From /Users/zhangshulin_work/anaconda/lib/python3.6/site-packages/tensorflow/contrib/learn/python/learn/datasets/base.py:198: retry (from tensorflow.contrib.learn.python.learn.datasets.base) is deprecated and will be removed in a future version.\n",
      "Instructions for updating:\n",
      "Use the retry module or similar alternatives.\n"
     ]
    }
   ],
   "source": [
    "import tensorflow as tf\n",
    "from tensorflow.contrib import eager as tfe\n",
    "import numpy as np\n",
    "from matplotlib import pylab as plt\n",
    "from sklearn import metrics\n",
    "from scipy import io as sio\n",
    "\n",
    "%matplotlib inline\n",
    "\n",
    "tf.enable_eager_execution()"
   ]
  },
  {
   "cell_type": "code",
   "execution_count": 2,
   "metadata": {},
   "outputs": [
    {
     "data": {
      "text/plain": [
       "dict_keys(['__header__', '__version__', '__globals__', 'X', 'Xval', 'yval'])"
      ]
     },
     "execution_count": 2,
     "metadata": {},
     "output_type": "execute_result"
    }
   ],
   "source": [
    "mat = sio.loadmat('./data/ex8data1.mat')\n",
    "mat.keys()"
   ]
  },
  {
   "cell_type": "code",
   "execution_count": 3,
   "metadata": {},
   "outputs": [
    {
     "data": {
      "text/plain": [
       "((307, 2), (307, 2), (307, 1))"
      ]
     },
     "execution_count": 3,
     "metadata": {},
     "output_type": "execute_result"
    }
   ],
   "source": [
    "X_train = mat.get('X')\n",
    "X_val = mat.get('Xval')\n",
    "Y_val = mat.get('yval')\n",
    "\n",
    "X_train.shape, X_val.shape, Y_val.shape"
   ]
  },
  {
   "cell_type": "code",
   "execution_count": 4,
   "metadata": {},
   "outputs": [
    {
     "data": {
      "text/plain": [
       "<matplotlib.collections.PathCollection at 0x1218cbc18>"
      ]
     },
     "execution_count": 4,
     "metadata": {},
     "output_type": "execute_result"
    },
    {
     "data": {
      "image/png": "[encoded data removed]",
      "text/plain": [
       "<matplotlib.figure.Figure at 0x11e722668>"
      ]
     },
     "metadata": {},
     "output_type": "display_data"
    }
   ],
   "source": [
    "plt.figure(figsize=(16, 8))\n",
    "plt.subplot(1, 2, 1)\n",
    "plt.scatter(X_val[:, 0], X_val[:, 1], c=Y_val[:, 0])\n",
    "plt.subplot(1, 2, 2)\n",
    "plt.scatter(X_val[Y_val[:, 0] == 1, 0], X_val[Y_val[:, 0] == 1, 1])"
   ]
  },
  {
   "cell_type": "code",
   "execution_count": 5,
   "metadata": {
    "collapsed": true
   },
   "outputs": [],
   "source": [
    "def cal_mean_variance(X):\n",
    "    mean = tf.reduce_mean(X, axis=0)\n",
    "    variance = tf.reduce_mean(tf.square(X - mean), axis=0)\n",
    "    \n",
    "    return mean, variance"
   ]
  },
  {
   "cell_type": "code",
   "execution_count": 6,
   "metadata": {},
   "outputs": [
    {
     "data": {
      "text/plain": [
       "(<tf.Tensor: id=2, shape=(2,), dtype=float64, numpy=array([ 14.11222578,  14.99771051])>,\n",
       " <tf.Tensor: id=6, shape=(2,), dtype=float64, numpy=array([ 1.83263141,  1.70974533])>)"
      ]
     },
     "execution_count": 6,
     "metadata": {},
     "output_type": "execute_result"
    }
   ],
   "source": [
    "mean, varince = cal_mean_variance(X_train)\n",
    "mean, varince"
   ]
  },
  {
   "cell_type": "code",
   "execution_count": 7,
   "metadata": {
    "collapsed": true
   },
   "outputs": [],
   "source": [
    "def cal_density(X, mean, variance):\n",
    "    part1 = 1 / tf.sqrt(2 * np.pi * variance)\n",
    "    part2 = tf.exp(-tf.square(X - mean) / (2 * variance))\n",
    "    result = part1 * part2\n",
    "    \n",
    "    return tf.reduce_prod(result, axis=1)"
   ]
  },
  {
   "cell_type": "code",
   "execution_count": 8,
   "metadata": {},
   "outputs": [
    {
     "data": {
      "text/plain": [
       "<tf.Tensor: id=24, shape=(3,), dtype=float64, numpy=array([ 0.04163207,  0.08190901,  0.04071578])>"
      ]
     },
     "execution_count": 8,
     "metadata": {},
     "output_type": "execute_result"
    }
   ],
   "source": [
    "cal_density(X_val[:3], mean, varince)"
   ]
  },
  {
   "cell_type": "code",
   "execution_count": 9,
   "metadata": {
    "collapsed": true
   },
   "outputs": [],
   "source": [
    "densities = cal_density(X_val, mean, varince)"
   ]
  },
  {
   "cell_type": "code",
   "execution_count": 10,
   "metadata": {
    "collapsed": true
   },
   "outputs": [],
   "source": [
    "def cal_metrics(densities, labels, epsilon):\n",
    "    predicts = densities < epsilon\n",
    "    precision = metrics.precision_score(labels, predicts)\n",
    "    recall = metrics.recall_score(labels, predicts)\n",
    "    f1 = metrics.f1_score(labels, predicts)\n",
    "    \n",
    "    return precision, recall, f1"
   ]
  },
  {
   "cell_type": "code",
   "execution_count": 11,
   "metadata": {
    "collapsed": true
   },
   "outputs": [],
   "source": [
    "def search_epsilon(cal_metrics, densities, labels, log_range=(-3, -5)):\n",
    "    max_f1 = 0\n",
    "    max_precision = 0\n",
    "    max_recall = 0\n",
    "    result_epsilon = 1\n",
    "    for e in np.logspace(log_range[0], log_range[1], 100):\n",
    "        precision, recall, f1 = cal_metrics(densities, labels, e)\n",
    "#         print(e, f1)\n",
    "        if f1 > max_f1:\n",
    "            max_f1 = f1\n",
    "            max_precision = precision\n",
    "            max_recall = recall\n",
    "            result_epsilon = e\n",
    "            \n",
    "    return result_epsilon, max_f1, max_precision, max_recall"
   ]
  },
  {
   "cell_type": "code",
   "execution_count": 12,
   "metadata": {},
   "outputs": [
    {
     "name": "stdout",
     "output_type": "stream",
     "text": [
      "best\n"
     ]
    },
    {
     "data": {
      "text/plain": [
       "(0.00049770235643321089, 0.87500000000000011, 1.0, 0.77777777777777779)"
      ]
     },
     "execution_count": 12,
     "metadata": {},
     "output_type": "execute_result"
    }
   ],
   "source": [
    "epsilon, f1, precision, recall = search_epsilon(cal_metrics, np.array(densities).reshape(-1, 1), Y_val, log_range=(-3, -5))\n",
    "print('best')\n",
    "epsilon, f1, precision, recall"
   ]
  },
  {
   "cell_type": "code",
   "execution_count": 13,
   "metadata": {},
   "outputs": [
    {
     "data": {
      "text/plain": [
       "(307,)"
      ]
     },
     "execution_count": 13,
     "metadata": {},
     "output_type": "execute_result"
    }
   ],
   "source": [
    "predicts = (densities < epsilon).numpy()\n",
    "predicts.shape"
   ]
  },
  {
   "cell_type": "code",
   "execution_count": 14,
   "metadata": {},
   "outputs": [
    {
     "name": "stdout",
     "output_type": "stream",
     "text": [
      "             precision    recall  f1-score   support\n",
      "\n",
      "          0       0.99      1.00      1.00       298\n",
      "          1       1.00      0.78      0.88         9\n",
      "\n",
      "avg / total       0.99      0.99      0.99       307\n",
      "\n"
     ]
    }
   ],
   "source": [
    "print(metrics.classification_report(Y_val, predicts.reshape(-1, 1)))"
   ]
  },
  {
   "cell_type": "code",
   "execution_count": null,
   "metadata": {
    "collapsed": true
   },
   "outputs": [],
   "source": []
  }
 ],
 "metadata": {
  "kernelspec": {
   "display_name": "Python 3",
   "language": "python",
   "name": "python3"
  },
  "language_info": {
   "codemirror_mode": {
    "name": "ipython",
    "version": 3
   },
   "file_extension": ".py",
   "mimetype": "text/x-python",
   "name": "python",
   "nbconvert_exporter": "python",
   "pygments_lexer": "ipython3",
   "version": "3.6.4"
  }
 },
 "nbformat": 4,
 "nbformat_minor": 2
}
